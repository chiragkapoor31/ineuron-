{
 "cells": [
  {
   "cell_type": "code",
   "execution_count": null,
   "metadata": {},
   "outputs": [],
   "source": [
    "  "
   ]
  },
  {
   "cell_type": "code",
   "execution_count": 2,
   "metadata": {},
   "outputs": [
    {
     "name": "stdout",
     "output_type": "stream",
     "text": [
      "chirag\n"
     ]
    }
   ],
   "source": [
    "class person:\n",
    "    \n",
    "    def age(self,cury,yob):\n",
    "        return cury-yob\n",
    "    def email_id_input(self,email):\n",
    "        print(\"emailid\",email)\n",
    "    def ask_name(self):\n",
    "        name=input(\"tell me your name\")\n",
    "        return name\n",
    "    def ask_dob(self):\n",
    "        dob=input(\"tel me your dob\")\n",
    "        return dob\n",
    "ck=person()\n",
    "print(ck.ask_name())"
   ]
  },
  {
   "cell_type": "code",
   "execution_count": 23,
   "metadata": {},
   "outputs": [
    {
     "name": "stdout",
     "output_type": "stream",
     "text": [
      "chirag kapoor 2001\n"
     ]
    }
   ],
   "source": [
    "class person:\n",
    "    def __init__(self,name,surname,yob) -> None:\n",
    "        self._name1=name\n",
    "        # with single _ we can make variable protected\n",
    "        self.__surname1=surname\n",
    "        # with double __ it will make variable private\n",
    "        self.yob=yob\n",
    "    def print(self):\n",
    "        print(self._name1,self._person__surname1,self.yob)\n",
    "        # to acces private variable we can use _classname__privatevariable\n",
    "        \n",
    "        \n",
    "\n",
    "ck=person(\"chirag\",\"kapoor\",2001)\n",
    "ck.print()\n",
    "\n",
    "    "
   ]
  },
  {
   "cell_type": "code",
   "execution_count": 21,
   "metadata": {},
   "outputs": [
    {
     "ename": "ModuleNotFoundError",
     "evalue": "No module named 'person'",
     "output_type": "error",
     "traceback": [
      "\u001b[1;31m---------------------------------------------------------------------------\u001b[0m",
      "\u001b[1;31mModuleNotFoundError\u001b[0m                       Traceback (most recent call last)",
      "\u001b[1;32m<ipython-input-21-b4e0e79e25ae>\u001b[0m in \u001b[0;36m<module>\u001b[1;34m\u001b[0m\n\u001b[1;32m----> 1\u001b[1;33m \u001b[1;32mimport\u001b[0m \u001b[0mperson\u001b[0m\u001b[1;33m\u001b[0m\u001b[1;33m\u001b[0m\u001b[0m\n\u001b[0m\u001b[0;32m      2\u001b[0m \u001b[1;32mclass\u001b[0m \u001b[0mpurple\u001b[0m\u001b[1;33m:\u001b[0m\u001b[1;33m\u001b[0m\u001b[1;33m\u001b[0m\u001b[0m\n\u001b[0;32m      3\u001b[0m     \u001b[0m_name\u001b[0m \u001b[1;33m=\u001b[0m\u001b[1;34m\"ginle\"\u001b[0m\u001b[1;33m\u001b[0m\u001b[1;33m\u001b[0m\u001b[0m\n\u001b[0;32m      4\u001b[0m     \u001b[0m__surname\u001b[0m\u001b[1;33m=\u001b[0m\u001b[1;34m'op'\u001b[0m\u001b[1;33m\u001b[0m\u001b[1;33m\u001b[0m\u001b[0m\n\u001b[0;32m      5\u001b[0m     \u001b[0myob\u001b[0m\u001b[1;33m=\u001b[0m\u001b[1;36m2021\u001b[0m\u001b[1;33m\u001b[0m\u001b[1;33m\u001b[0m\u001b[0m\n",
      "\u001b[1;31mModuleNotFoundError\u001b[0m: No module named 'person'"
     ]
    }
   ],
   "source": [
    "\n",
    "class purple:\n",
    "    _name =\"ginle\"\n",
    "    __surname='op'\n",
    "    yob=2021\n",
    "    def _age(self):\n",
    "        cury=int(input(\"enter current year\"))\n",
    "        print(cury-purple.yob)\n",
    "    # to access parent variable --use classname.variable\n",
    "    def __age1(self,cury):\n",
    "        cury=int(input(\"enter current year\"))\n",
    "        print(cury-self.yob)\n",
    "\n",
    "\n",
    "class leet(purple):\n",
    "    _name=\"choto\"\n",
    "    __surname=\"boi\"\n",
    "    yob=2022\n",
    "    print(\"uwu\")\n",
    "ginleboi=leet()\n",
    "print(ginleboi.yob)\n",
    "print(ginleboi._name)\n",
    "print(ginleboi._purple__surname)\n",
    "ginleboi._age()\n",
    "# when ever we use same variable first we will get from child class"
   ]
  },
  {
   "cell_type": "code",
   "execution_count": 5,
   "metadata": {},
   "outputs": [
    {
     "name": "stdout",
     "output_type": "stream",
     "text": [
      "[0, 1, 4, ]\n"
     ]
    }
   ],
   "source": [
    "class ListNode:\n",
    "       def __init__(self, data, next = None):\n",
    "           self.val = data\n",
    "           self.next = next\n",
    "def make_list(elements):\n",
    "   head = ListNode(elements[0])\n",
    "   for element in elements[1:]:\n",
    "      ptr = head\n",
    "      while ptr.next:\n",
    "         ptr = ptr.next\n",
    "      ptr.next = ListNode(element)\n",
    "   return head\n",
    "def print_list(head):\n",
    "   ptr = head\n",
    "   print('[', end = \"\")\n",
    "   while ptr:\n",
    "      print(ptr.val, end = \", \")\n",
    "      ptr = ptr.next\n",
    "   print(']')\n",
    "class Solution:\n",
    "   def addTwoNumbers(self, l1: ListNode, l2: ListNode) -> ListNode:\n",
    "      head = None\n",
    "      temp = None\n",
    "      c = 0\n",
    "      while l1 or l2:\n",
    "         if not l1:\n",
    "            a= 0\n",
    "         else:\n",
    "            a = l1.val\n",
    "         if not l2:\n",
    "            b=0\n",
    "         else:\n",
    "            b = l2.val\n",
    "         n = a +b + c\n",
    "         c = 1 if n>9 else 0\n",
    "         node = ListNode(n%10)\n",
    "         if not head:\n",
    "            head = node\n",
    "            temp = node\n",
    "         else:\n",
    "            head.next = node\n",
    "            head = node\n",
    "         l1 = l1.next if l1 else None\n",
    "         l2 = l2.next if l2 else None\n",
    "      if c:\n",
    "         node = ListNode(1)\n",
    "         head.next = node\n",
    "      return temp\n",
    "ob1 = Solution()\n",
    "l1 = make_list([0,8,1])\n",
    "l2 = make_list([0,3,2])\n",
    "print_list(ob1.addTwoNumbers(l1, l2))\n"
   ]
  },
  {
   "cell_type": "code",
   "execution_count": 6,
   "metadata": {},
   "outputs": [
    {
     "ename": "NameError",
     "evalue": "name 'Optional' is not defined",
     "output_type": "error",
     "traceback": [
      "\u001b[1;31m---------------------------------------------------------------------------\u001b[0m",
      "\u001b[1;31mNameError\u001b[0m                                 Traceback (most recent call last)",
      "\u001b[1;32m<ipython-input-6-afc0b301d3ff>\u001b[0m in \u001b[0;36m<module>\u001b[1;34m\u001b[0m\n\u001b[1;32m----> 1\u001b[1;33m \u001b[1;32mclass\u001b[0m \u001b[0mSolution\u001b[0m\u001b[1;33m:\u001b[0m\u001b[1;33m\u001b[0m\u001b[1;33m\u001b[0m\u001b[0m\n\u001b[0m\u001b[0;32m      2\u001b[0m     \u001b[1;32mdef\u001b[0m \u001b[0mtraverseLinkedList\u001b[0m\u001b[1;33m(\u001b[0m\u001b[0mself\u001b[0m\u001b[1;33m,\u001b[0m\u001b[0mnode\u001b[0m\u001b[1;33m,\u001b[0m\u001b[0mlistValues\u001b[0m\u001b[1;33m)\u001b[0m\u001b[1;33m:\u001b[0m\u001b[1;33m\u001b[0m\u001b[1;33m\u001b[0m\u001b[0m\n\u001b[0;32m      3\u001b[0m         \u001b[0mlistValues\u001b[0m\u001b[1;33m.\u001b[0m\u001b[0mappend\u001b[0m\u001b[1;33m(\u001b[0m\u001b[0mnode\u001b[0m\u001b[1;33m.\u001b[0m\u001b[0mval\u001b[0m\u001b[1;33m)\u001b[0m\u001b[1;33m\u001b[0m\u001b[1;33m\u001b[0m\u001b[0m\n\u001b[0;32m      4\u001b[0m         \u001b[1;32mif\u001b[0m \u001b[0mnode\u001b[0m\u001b[1;33m.\u001b[0m\u001b[0mnext\u001b[0m \u001b[1;32mis\u001b[0m \u001b[1;32mnot\u001b[0m \u001b[1;32mNone\u001b[0m\u001b[1;33m:\u001b[0m\u001b[1;33m\u001b[0m\u001b[1;33m\u001b[0m\u001b[0m\n\u001b[0;32m      5\u001b[0m             \u001b[1;32mreturn\u001b[0m \u001b[0mself\u001b[0m\u001b[1;33m.\u001b[0m\u001b[0mtraverseLinkedList\u001b[0m\u001b[1;33m(\u001b[0m\u001b[0mnode\u001b[0m\u001b[1;33m.\u001b[0m\u001b[0mnext\u001b[0m\u001b[1;33m,\u001b[0m\u001b[0mlistValues\u001b[0m\u001b[1;33m)\u001b[0m\u001b[1;33m\u001b[0m\u001b[1;33m\u001b[0m\u001b[0m\n",
      "\u001b[1;32m<ipython-input-6-afc0b301d3ff>\u001b[0m in \u001b[0;36mSolution\u001b[1;34m()\u001b[0m\n\u001b[0;32m      7\u001b[0m             \u001b[1;32mreturn\u001b[0m \u001b[0mlistValues\u001b[0m\u001b[1;33m\u001b[0m\u001b[1;33m\u001b[0m\u001b[0m\n\u001b[0;32m      8\u001b[0m \u001b[1;33m\u001b[0m\u001b[0m\n\u001b[1;32m----> 9\u001b[1;33m     \u001b[1;32mdef\u001b[0m \u001b[0maddTwoNumbers\u001b[0m\u001b[1;33m(\u001b[0m\u001b[0mself\u001b[0m\u001b[1;33m,\u001b[0m \u001b[0ml1\u001b[0m\u001b[1;33m:\u001b[0m \u001b[0mOptional\u001b[0m\u001b[1;33m[\u001b[0m\u001b[0mListNode\u001b[0m\u001b[1;33m]\u001b[0m\u001b[1;33m,\u001b[0m \u001b[0ml2\u001b[0m\u001b[1;33m:\u001b[0m \u001b[0mOptional\u001b[0m\u001b[1;33m[\u001b[0m\u001b[0mListNode\u001b[0m\u001b[1;33m]\u001b[0m\u001b[1;33m)\u001b[0m \u001b[1;33m->\u001b[0m \u001b[0mOptional\u001b[0m\u001b[1;33m[\u001b[0m\u001b[0mListNode\u001b[0m\u001b[1;33m]\u001b[0m\u001b[1;33m:\u001b[0m\u001b[1;33m\u001b[0m\u001b[1;33m\u001b[0m\u001b[0m\n\u001b[0m\u001b[0;32m     10\u001b[0m         \u001b[0mlist1\u001b[0m \u001b[1;33m=\u001b[0m \u001b[0mself\u001b[0m\u001b[1;33m.\u001b[0m\u001b[0mtraverseLinkedList\u001b[0m\u001b[1;33m(\u001b[0m\u001b[0ml1\u001b[0m\u001b[1;33m,\u001b[0m\u001b[1;33m[\u001b[0m\u001b[1;33m]\u001b[0m\u001b[1;33m)\u001b[0m\u001b[1;33m\u001b[0m\u001b[1;33m\u001b[0m\u001b[0m\n\u001b[0;32m     11\u001b[0m         \u001b[0mlist2\u001b[0m \u001b[1;33m=\u001b[0m \u001b[0mself\u001b[0m\u001b[1;33m.\u001b[0m\u001b[0mtraverseLinkedList\u001b[0m\u001b[1;33m(\u001b[0m\u001b[0ml2\u001b[0m\u001b[1;33m,\u001b[0m\u001b[1;33m[\u001b[0m\u001b[1;33m]\u001b[0m\u001b[1;33m)\u001b[0m\u001b[1;33m\u001b[0m\u001b[1;33m\u001b[0m\u001b[0m\n",
      "\u001b[1;31mNameError\u001b[0m: name 'Optional' is not defined"
     ]
    }
   ],
   "source": [
    "class Solution:\n",
    "    def traverseLinkedList(self,node,listValues):\n",
    "        listValues.append(node.val)\n",
    "        if node.next is not None:\n",
    "            return self.traverseLinkedList(node.next,listValues)\n",
    "        else :\n",
    "            return listValues\n",
    "        \n",
    "    def addTwoNumbers(self, l1: Optional[ListNode], l2: Optional[ListNode]) -> Optional[ListNode]:\n",
    "        list1 = self.traverseLinkedList(l1,[])\n",
    "        list2 = self.traverseLinkedList(l2,[])\n",
    "        list1=list1[::-1]\n",
    "        list2 = list2[::-1]\n",
    "        \n",
    "        \n",
    "        val1 = int(''.join(map(str,list1)))\n",
    "        val2 = int(''.join(map(str,list2)))\n",
    "        \n",
    "        result = str(val1+val2)[::-1]           \n",
    "        \n",
    "        return ListNode(','.join(result))"
   ]
  },
  {
   "cell_type": "code",
   "execution_count": 7,
   "metadata": {},
   "outputs": [
    {
     "ename": "NameError",
     "evalue": "name 'Optional' is not defined",
     "output_type": "error",
     "traceback": [
      "\u001b[1;31m---------------------------------------------------------------------------\u001b[0m",
      "\u001b[1;31mNameError\u001b[0m                                 Traceback (most recent call last)",
      "\u001b[1;32m<ipython-input-7-deb559d5c234>\u001b[0m in \u001b[0;36m<module>\u001b[1;34m\u001b[0m\n\u001b[1;32m----> 1\u001b[1;33m \u001b[1;32mclass\u001b[0m \u001b[0mSolution\u001b[0m\u001b[1;33m:\u001b[0m\u001b[1;33m\u001b[0m\u001b[1;33m\u001b[0m\u001b[0m\n\u001b[0m\u001b[0;32m      2\u001b[0m \u001b[1;33m\u001b[0m\u001b[0m\n\u001b[0;32m      3\u001b[0m     \u001b[1;32mdef\u001b[0m \u001b[0maddTwoNumbers\u001b[0m\u001b[1;33m(\u001b[0m\u001b[0mself\u001b[0m\u001b[1;33m,\u001b[0m \u001b[0ml1\u001b[0m\u001b[1;33m:\u001b[0m \u001b[0mOptional\u001b[0m\u001b[1;33m[\u001b[0m\u001b[0mListNode\u001b[0m\u001b[1;33m]\u001b[0m\u001b[1;33m,\u001b[0m \u001b[0ml2\u001b[0m\u001b[1;33m:\u001b[0m \u001b[0mOptional\u001b[0m\u001b[1;33m[\u001b[0m\u001b[0mListNode\u001b[0m\u001b[1;33m]\u001b[0m\u001b[1;33m)\u001b[0m \u001b[1;33m->\u001b[0m \u001b[0mOptional\u001b[0m\u001b[1;33m[\u001b[0m\u001b[0mListNode\u001b[0m\u001b[1;33m]\u001b[0m\u001b[1;33m:\u001b[0m\u001b[1;33m\u001b[0m\u001b[1;33m\u001b[0m\u001b[0m\n\u001b[0;32m      4\u001b[0m \u001b[1;33m\u001b[0m\u001b[0m\n\u001b[0;32m      5\u001b[0m         \u001b[0mnb1\u001b[0m\u001b[1;33m,\u001b[0m \u001b[0mnb2\u001b[0m \u001b[1;33m=\u001b[0m \u001b[1;34m\"\"\u001b[0m\u001b[1;33m,\u001b[0m \u001b[1;34m\"\"\u001b[0m\u001b[1;33m\u001b[0m\u001b[1;33m\u001b[0m\u001b[0m\n",
      "\u001b[1;32m<ipython-input-7-deb559d5c234>\u001b[0m in \u001b[0;36mSolution\u001b[1;34m()\u001b[0m\n\u001b[0;32m      1\u001b[0m \u001b[1;32mclass\u001b[0m \u001b[0mSolution\u001b[0m\u001b[1;33m:\u001b[0m\u001b[1;33m\u001b[0m\u001b[1;33m\u001b[0m\u001b[0m\n\u001b[0;32m      2\u001b[0m \u001b[1;33m\u001b[0m\u001b[0m\n\u001b[1;32m----> 3\u001b[1;33m     \u001b[1;32mdef\u001b[0m \u001b[0maddTwoNumbers\u001b[0m\u001b[1;33m(\u001b[0m\u001b[0mself\u001b[0m\u001b[1;33m,\u001b[0m \u001b[0ml1\u001b[0m\u001b[1;33m:\u001b[0m \u001b[0mOptional\u001b[0m\u001b[1;33m[\u001b[0m\u001b[0mListNode\u001b[0m\u001b[1;33m]\u001b[0m\u001b[1;33m,\u001b[0m \u001b[0ml2\u001b[0m\u001b[1;33m:\u001b[0m \u001b[0mOptional\u001b[0m\u001b[1;33m[\u001b[0m\u001b[0mListNode\u001b[0m\u001b[1;33m]\u001b[0m\u001b[1;33m)\u001b[0m \u001b[1;33m->\u001b[0m \u001b[0mOptional\u001b[0m\u001b[1;33m[\u001b[0m\u001b[0mListNode\u001b[0m\u001b[1;33m]\u001b[0m\u001b[1;33m:\u001b[0m\u001b[1;33m\u001b[0m\u001b[1;33m\u001b[0m\u001b[0m\n\u001b[0m\u001b[0;32m      4\u001b[0m \u001b[1;33m\u001b[0m\u001b[0m\n\u001b[0;32m      5\u001b[0m         \u001b[0mnb1\u001b[0m\u001b[1;33m,\u001b[0m \u001b[0mnb2\u001b[0m \u001b[1;33m=\u001b[0m \u001b[1;34m\"\"\u001b[0m\u001b[1;33m,\u001b[0m \u001b[1;34m\"\"\u001b[0m\u001b[1;33m\u001b[0m\u001b[1;33m\u001b[0m\u001b[0m\n",
      "\u001b[1;31mNameError\u001b[0m: name 'Optional' is not defined"
     ]
    }
   ],
   "source": [
    "class Solution:\n",
    "    \n",
    "    def addTwoNumbers(self, l1: Optional[ListNode], l2: Optional[ListNode]) -> Optional[ListNode]:\n",
    "\t\n",
    "        nb1, nb2 = \"\", \"\"\n",
    "\t\t\n",
    "        while l1 is not None or l2 is not None :\n",
    "            if l1 :\n",
    "                nb1 = str(l1.val) + nb1\n",
    "                l1 = l1.next\n",
    "            if l2 :\n",
    "                nb2 = str(l2.val) + nb2\n",
    "                l2 = l2.next\n",
    "\t\t\t\t\n",
    "        res = int(nb1) + int(nb2)\n",
    "        ans = ListNode(0)\n",
    "        l = ans\n",
    "\t\t\n",
    "        while True:\n",
    "            l.next = ListNode(res%10)\n",
    "            l = l.next\n",
    "            res = res // 10\n",
    "            if res == 0 :\n",
    "                break\n",
    "\t\t\t\t\n",
    "        return ans.next"
   ]
  }
 ],
 "metadata": {
  "kernelspec": {
   "display_name": "Python 3.9.5 64-bit",
   "language": "python",
   "name": "python3"
  },
  "language_info": {
   "codemirror_mode": {
    "name": "ipython",
    "version": 3
   },
   "file_extension": ".py",
   "mimetype": "text/x-python",
   "name": "python",
   "nbconvert_exporter": "python",
   "pygments_lexer": "ipython3",
   "version": "3.9.5"
  },
  "orig_nbformat": 4,
  "vscode": {
   "interpreter": {
    "hash": "b8b2bd37487b3fe204033e15b6afaef260cb7f1e6a9c00d49c4cfb2f7b3def48"
   }
  }
 },
 "nbformat": 4,
 "nbformat_minor": 2
}
