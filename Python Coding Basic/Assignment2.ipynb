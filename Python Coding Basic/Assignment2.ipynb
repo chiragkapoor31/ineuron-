{
 "cells": [
  {
   "cell_type": "code",
   "execution_count": null,
   "metadata": {},
   "outputs": [],
   "source": [
    "Assignment 2 solutions"
   ]
  },
  {
   "cell_type": "markdown",
   "metadata": {},
   "source": [
    "Ans 1:"
   ]
  },
  {
   "cell_type": "code",
   "execution_count": null,
   "metadata": {},
   "outputs": [],
   "source": [
    "def kmToMiles():\n",
    "    kiloMeters = float(input(\"Enter no of kilometers : \"))\n",
    "    print(\"{} km is Equal to {} miles\".format(kiloMeters,kiloMeters*0.621))\n",
    "    \n",
    "kmToMiles()"
   ]
  },
  {
   "cell_type": "markdown",
   "metadata": {},
   "source": [
    "Ans 2:"
   ]
  },
  {
   "cell_type": "code",
   "execution_count": null,
   "metadata": {},
   "outputs": [],
   "source": [
    "def celToFarh():\n",
    "    celsius = int(input(\"Enter temperature in celsius : \"))\n",
    "    Farenheit = (celsius*(9/5))+32\n",
    "    print(\"{}° Celsius is Equal to {}° Farenheit\".format(celsius,Farenheit))\n",
    "    \n",
    "celToFarh()"
   ]
  },
  {
   "cell_type": "markdown",
   "metadata": {},
   "source": [
    "Ans 3:"
   ]
  },
  {
   "cell_type": "code",
   "execution_count": null,
   "metadata": {},
   "outputs": [],
   "source": [
    "import calendar\n",
    "\n",
    "def showCalender():\n",
    "    year = int(input(\"Enter calender year: \"))\n",
    "    print(calendar.calendar(year))\n",
    "    \n",
    "showCalender()"
   ]
  },
  {
   "cell_type": "markdown",
   "metadata": {},
   "source": [
    "Ans 4:"
   ]
  },
  {
   "cell_type": "code",
   "execution_count": null,
   "metadata": {},
   "outputs": [],
   "source": [
    "import cmath\n",
    "import math\n",
    "\n",
    "def quadarticEquationRoots(a,b,c):\n",
    "    \n",
    "    discriminant = b*b-4*a*c\n",
    "    \n",
    "    if discriminant == 0:\n",
    "        r1 = -b/2*a\n",
    "        r2 = -b/2*a\n",
    "        print(\"Roots are Real\",r1,r2)\n",
    "    elif discriminant > 0:\n",
    "        r1 = (-b-math.sqrt(discriminant))/(2 * a)\n",
    "        r2 = (-b+math.sqrt(discriminant))/(2 * a)\n",
    "        print(\"Roots are Real and different\",r1,r2)\n",
    "    else:\n",
    "        r1 = (-b-cmath.sqrt(discriminant))/(2 * a)\n",
    "        r2 = (-b+cmath.sqrt(discriminant))/(2 * a)\n",
    "        print(\"Roots are Imaginary\",r1,r2)\n",
    "\n",
    "a = int(input('Enter a value: '))\n",
    "b = int(input('Enter b value: '))\n",
    "c = int(input('Enter c value: '))\n",
    "quadarticEquationRoots(a,b,c)"
   ]
  },
  {
   "cell_type": "markdown",
   "metadata": {},
   "source": [
    "Ans 5:"
   ]
  },
  {
   "cell_type": "code",
   "execution_count": null,
   "metadata": {},
   "outputs": [],
   "source": [
    "num1 = int(input('Enter first number: '))\n",
    "num2 = int(input('Enter second number: '))\n",
    "\n",
    "def swapNumbers(num1,num2):\n",
    "        print('Before Swapping',num1,num2)\n",
    "        num1 = num1+num2\n",
    "        num2 = num1-num2\n",
    "        num1 = num1-num2\n",
    "        print('after Swapping',num1,num2)\n",
    "\n",
    "swapNumbers(num1,num2)"
   ]
  }
 ],
 "metadata": {
  "kernelspec": {
   "display_name": "Python 3 (ipykernel)",
   "language": "python",
   "name": "python3"
  },
  "language_info": {
   "codemirror_mode": {
    "name": "ipython",
    "version": 3
   },
   "file_extension": ".py",
   "mimetype": "text/x-python",
   "name": "python",
   "nbconvert_exporter": "python",
   "pygments_lexer": "ipython3",
   "version": "3.9.12"
  }
 },
 "nbformat": 4,
 "nbformat_minor": 2
}
